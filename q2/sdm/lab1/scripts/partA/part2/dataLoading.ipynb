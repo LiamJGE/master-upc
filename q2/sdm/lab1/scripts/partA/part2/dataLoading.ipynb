{
 "cells": [
  {
   "cell_type": "code",
   "execution_count": 1,
   "metadata": {},
   "outputs": [],
   "source": [
    "from neo4j import GraphDatabase"
   ]
  },
  {
   "cell_type": "code",
   "execution_count": 2,
   "metadata": {},
   "outputs": [],
   "source": [
    "class Neo4jConnection:\n",
    "    \n",
    "    def __init__(self, uri, user, pwd):\n",
    "        self.__uri = uri\n",
    "        self.__user = user\n",
    "        self.__pwd = pwd\n",
    "        self.__driver = None\n",
    "        try:\n",
    "            self.__driver = GraphDatabase.driver(self.__uri, auth=(self.__user, self.__pwd))\n",
    "        except Exception as e:\n",
    "            print(\"Failed to create the driver:\", e)\n",
    "        \n",
    "    def close(self):\n",
    "        if self.__driver is not None:\n",
    "            self.__driver.close()\n",
    "        \n",
    "    def query(self, query, db=None):\n",
    "        assert self.__driver is not None, \"Driver not initialized!\"\n",
    "        session = None\n",
    "        response = None\n",
    "        try: \n",
    "            session = self.__driver.session(database=db) if db is not None else self.__driver.session() \n",
    "            response = list(session.run(query))\n",
    "        except Exception as e:\n",
    "            print(\"Query failed:\", e)\n",
    "        finally: \n",
    "            if session is not None:\n",
    "                session.close()\n",
    "        return response"
   ]
  },
  {
   "cell_type": "code",
   "execution_count": 3,
   "metadata": {},
   "outputs": [],
   "source": [
    "# URI examples: \"neo4j://localhost\", \"neo4j+s://xxx.databases.neo4j.io\"\n",
    "URI = \"neo4j://localhost:7687\"\n",
    "AUTH = (\"neo4j\", \"12345678\")\n",
    "\n",
    "with GraphDatabase.driver(URI, auth=AUTH) as driver:\n",
    "    driver.verify_connectivity()\n",
    "\n",
    "conn = Neo4jConnection(uri=URI, user=AUTH[0], pwd=AUTH[1])"
   ]
  },
  {
   "attachments": {},
   "cell_type": "markdown",
   "metadata": {},
   "source": [
    "<h2>Load Data</h2>"
   ]
  },
  {
   "cell_type": "code",
   "execution_count": 4,
   "metadata": {},
   "outputs": [
    {
     "data": {
      "text/plain": [
       "[]"
      ]
     },
     "execution_count": 4,
     "metadata": {},
     "output_type": "execute_result"
    }
   ],
   "source": [
    "query = '''LOAD CSV WITH HEADERS FROM 'file:///sampleArticle.csv' AS line FIELDTERMINATOR ','\n",
    "           MERGE (p:Paper {id:line.articleID, title: line.title, year: toInteger(line.year), corresponding_author: line.correspondingAuthor, abstract: line.abstract})\n",
    "           MERGE (v:Volume {id: line.volume_id, number: line.volume})\n",
    "           MERGE (p)-[:BELONGS_TO]->(v)\n",
    "           \n",
    "           MERGE (j:Journal {id: line.issn, name: line.journal})\n",
    "           MERGE (v)-[:PUBLISHED_IN {year: toInteger(line.year)}]->(j)\n",
    "           \n",
    "           FOREACH (n IN CASE WHEN line.edition_id IS NOT NULL THEN [1] ELSE [] END |\n",
    "            MERGE (e:Edition {id: line.edition_id, number: line.edition_number})\n",
    "            MERGE (p)-[:PRESENTED_IN {year: line.edition_year}]->(e)\n",
    "\n",
    "            MERGE (c:Conference {id: line.conference})\n",
    "            MERGE (e)-[:OF]->(c)\n",
    "\n",
    "            MERGE (ct:City {name: line.city}) \n",
    "            MERGE (e)-[:HOSTED_IN {from: line.start_date, to: line.end_date}]->(ct))\n",
    "\n",
    "           WITH p, line\n",
    "           UNWIND split(line.authors, '|') as name\n",
    "           MERGE (a:Author {name: name})\n",
    "           MERGE (a)-[:WROTE]->(p)\n",
    "\n",
    "           WITH p, line\n",
    "           UNWIND split(line.reviewers, '|') as reviewer\n",
    "           MATCH (rev:Author)\n",
    "           WHERE rev.name = reviewer\n",
    "           WITH rev, p, line\n",
    "           MERGE (rev)-[:REVIEWS]->(p)\n",
    "\n",
    "           WITH p, line\n",
    "           UNWIND split(line.keywords, '|') as word\n",
    "           MERGE (key:Keyword {word: word})\n",
    "           MERGE (p)-[:RELATED_TO]->(key)\n",
    "\n",
    "           WITH p, line\n",
    "           UNWIND split(line.citations, '|') as cite\n",
    "           MATCH (citedPaper:Paper), (paper:Paper)\n",
    "           WHERE citedPaper.id = cite and paper.id = line.articleID\n",
    "           WITH citedPaper, paper \n",
    "           MERGE (paper)-[:CITES]->(citedPaper)\n",
    "\n",
    "           '''\n",
    "\n",
    "conn.query(query=query)"
   ]
  },
  {
   "cell_type": "code",
   "execution_count": 5,
   "metadata": {},
   "outputs": [],
   "source": [
    "conn.close()"
   ]
  }
 ],
 "metadata": {
  "kernelspec": {
   "display_name": "Python 3",
   "language": "python",
   "name": "python3"
  },
  "language_info": {
   "codemirror_mode": {
    "name": "ipython",
    "version": 3
   },
   "file_extension": ".py",
   "mimetype": "text/x-python",
   "name": "python",
   "nbconvert_exporter": "python",
   "pygments_lexer": "ipython3",
   "version": "3.11.1"
  },
  "orig_nbformat": 4,
  "vscode": {
   "interpreter": {
    "hash": "5b1f1339d7c2ab996716129d986c503100b4901e5db18f38c21cac048359f26b"
   }
  }
 },
 "nbformat": 4,
 "nbformat_minor": 2
}
