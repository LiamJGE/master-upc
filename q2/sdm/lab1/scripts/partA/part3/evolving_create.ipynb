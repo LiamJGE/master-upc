{
 "cells": [
  {
   "cell_type": "code",
   "execution_count": 1,
   "metadata": {},
   "outputs": [],
   "source": [
    "from neo4j import GraphDatabase\n",
    "import pandas as pd\n",
    "import numpy as np"
   ]
  },
  {
   "cell_type": "code",
   "execution_count": 2,
   "metadata": {},
   "outputs": [],
   "source": [
    "class Neo4jConnection:\n",
    "    \n",
    "    def __init__(self, uri, user, pwd):\n",
    "        self.__uri = uri\n",
    "        self.__user = user\n",
    "        self.__pwd = pwd\n",
    "        self.__driver = None\n",
    "        try:\n",
    "            self.__driver = GraphDatabase.driver(self.__uri, auth=(self.__user, self.__pwd))\n",
    "        except Exception as e:\n",
    "            print(\"Failed to create the driver:\", e)\n",
    "        \n",
    "    def close(self):\n",
    "        if self.__driver is not None:\n",
    "            self.__driver.close()\n",
    "        \n",
    "    def query(self, query, db=None):\n",
    "        assert self.__driver is not None, \"Driver not initialized!\"\n",
    "        session = None\n",
    "        response = None\n",
    "        try: \n",
    "            session = self.__driver.session(database=db) if db is not None else self.__driver.session() \n",
    "            response = list(session.run(query))\n",
    "        except Exception as e:\n",
    "            print(\"Query failed:\", e)\n",
    "        finally: \n",
    "            if session is not None:\n",
    "                session.close()\n",
    "        return response"
   ]
  },
  {
   "cell_type": "code",
   "execution_count": 3,
   "metadata": {},
   "outputs": [],
   "source": [
    "# URI examples: \"neo4j://localhost\", \"neo4j+s://xxx.databases.neo4j.io\"\n",
    "URI = \"neo4j://localhost:7687\"\n",
    "AUTH = (\"neo4j\", \"12345678\")\n",
    "\n",
    "with GraphDatabase.driver(URI, auth=AUTH) as driver:\n",
    "    driver.verify_connectivity()\n",
    "\n",
    "conn = Neo4jConnection(uri=URI, user=AUTH[0], pwd=AUTH[1])"
   ]
  },
  {
   "attachments": {},
   "cell_type": "markdown",
   "metadata": {},
   "source": [
    "<h3>Adding Reviews</h3>\n",
    "First, we retrieve all the reviewers and the papers they have reviewed."
   ]
  },
  {
   "cell_type": "code",
   "execution_count": 4,
   "metadata": {},
   "outputs": [],
   "source": [
    "query ='''match (a:Author)-[:REVIEWS]-> (p:Paper) return a.name, p.id'''\n",
    "res = conn.query(query=query)\n",
    "df = pd.DataFrame(res, columns=['reviewer', 'paper_id'])"
   ]
  },
  {
   "attachments": {},
   "cell_type": "markdown",
   "metadata": {},
   "source": [
    "We assign a random decision and a corresponding text (review) to each review.\n",
    "\n",
    "The decision can be either \"Accepted\" or \"Rejected\".\n",
    "Once the decision has been chosen, a corresponding text is randomly chosen."
   ]
  },
  {
   "cell_type": "code",
   "execution_count": 5,
   "metadata": {},
   "outputs": [],
   "source": [
    "decisions = {'Accepted':[\"Well researched and clearly presented.\",    \"Innovative and thought-provoking.\",    \"Solid contribution to the field.\",    \"Thorough and well-written.\",    \"Excellent methodology and analysis.\",    \"Significant and impactful findings.\",    \"Well-structured and coherent argument.\",    \"Valuable addition to the literature.\",    \"Original and insightful research.\",    \"Compelling and well-supported conclusions.\"], \n",
    "             'Rejected': [\"Insufficient research design and methodology.\",    \"Lack of original contribution to the field.\",    \"Weak argument and analysis.\",    \"Inadequate data and sample size.\",    \"Unconvincing or unsupported conclusions.\",    \"Poorly written and difficult to understand.\",    \"Not a good fit for the journal's scope.\",    \"Limited relevance and significance.\",    \"Inconsistent or contradictory results.\",    \"Fundamental flaws in the study design.\"]}\n",
    "\n",
    "for i, reviewer in df.iterrows():\n",
    "    decision = np.random.choice(list(decisions.keys()))\n",
    "    review = np.random.choice(decisions[decision])\n",
    "    df.loc[df['reviewer'] == reviewer['reviewer'], 'decision'] = decision\n",
    "    df.loc[df['reviewer'] == reviewer['reviewer'], 'review'] = review    \n"
   ]
  },
  {
   "attachments": {},
   "cell_type": "markdown",
   "metadata": {},
   "source": [
    "Export the decisions and reviews"
   ]
  },
  {
   "cell_type": "code",
   "execution_count": 6,
   "metadata": {},
   "outputs": [],
   "source": [
    "df.to_csv('../../../testData/sampleReviews.csv')"
   ]
  },
  {
   "attachments": {},
   "cell_type": "markdown",
   "metadata": {},
   "source": [
    "<h3>Assigning Affiliation To Authors</h3>\n",
    "We retrieve the name of all the authors in our graph"
   ]
  },
  {
   "cell_type": "code",
   "execution_count": 7,
   "metadata": {},
   "outputs": [],
   "source": [
    "query ='''match (a:Author) return a.name'''\n",
    "res = conn.query(query=query)\n",
    "df = pd.DataFrame(res, columns=['author'])"
   ]
  },
  {
   "attachments": {},
   "cell_type": "markdown",
   "metadata": {},
   "source": [
    "We assign a random affiliation type and a corresponding affiliation to each author.\n",
    "\n",
    "First, the affiliation type is chosen, either \"University\" or \"Company\". Next, we choose a corresponding affiliation of that type."
   ]
  },
  {
   "cell_type": "code",
   "execution_count": 8,
   "metadata": {},
   "outputs": [],
   "source": [
    "affiliation = {'University': [\"Harvard University\",    \"Massachusetts Institute of Technology\",    \"Stanford University\",    \"California Institute of Technology\",    \"Princeton University\",    \"Yale University\",    \"Columbia University\",    \"Duke University\",    \"University of California, Berkeley\",    \"University of Chicago\",    \"Cornell University\",    \"Johns Hopkins University\",    \"Northwestern University\",    \"University of Michigan, Ann Arbor\",    \"University of Pennsylvania\",    \"University of California, Los Angeles\",    \"University of Virginia\",    \"Dartmouth College\",    \"Brown University\",    \"University of North Carolina at Chapel Hill\"],\n",
    "             'Company': [\"Google\",    \"IBM\",    \"Microsoft\",    \"Amazon\",    \"Apple\",    \"Intel\",    \"Facebook\",    \"Oracle\",    \"Hewlett Packard Enterprise\",    \"Cisco Systems\",    \"Dell Technologies\",    \"Johnson & Johnson\",    \"Bristol-Myers Squibb\",    \"Pfizer\",    \"Merck & Co.\",    \"Amgen\",    \"Gilead Sciences\",    \"Abbott Laboratories\",    \"Thermo Fisher Scientific\",    \"Regeneron Pharmaceuticals\"]}\n",
    "\n",
    "for i, author in df.iterrows():\n",
    "    aff_type = np.random.choice(list(affiliation.keys()))\n",
    "    aff = np.random.choice(affiliation[aff_type])\n",
    "    df.loc[df['author'] == author['author'], 'affiliation_type'] = aff_type\n",
    "    df.loc[df['author'] == author['author'], 'affiliation'] = aff  \n",
    "\n"
   ]
  },
  {
   "attachments": {},
   "cell_type": "markdown",
   "metadata": {},
   "source": [
    "We export the affiliation and their types."
   ]
  },
  {
   "cell_type": "code",
   "execution_count": 9,
   "metadata": {},
   "outputs": [],
   "source": [
    "df.to_csv('../../../testData/sampleAffiliations.csv')"
   ]
  }
 ],
 "metadata": {
  "kernelspec": {
   "display_name": "Python 3",
   "language": "python",
   "name": "python3"
  },
  "language_info": {
   "codemirror_mode": {
    "name": "ipython",
    "version": 3
   },
   "file_extension": ".py",
   "mimetype": "text/x-python",
   "name": "python",
   "nbconvert_exporter": "python",
   "pygments_lexer": "ipython3",
   "version": "3.11.1"
  },
  "orig_nbformat": 4
 },
 "nbformat": 4,
 "nbformat_minor": 2
}
